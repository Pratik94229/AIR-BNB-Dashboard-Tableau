{
  "nbformat": 4,
  "nbformat_minor": 0,
  "metadata": {
    "colab": {
      "provenance": [],
      "authorship_tag": "ABX9TyM+CaQLYiWzgmluMmm0sG84",
      "include_colab_link": true
    },
    "kernelspec": {
      "name": "python3",
      "display_name": "Python 3"
    },
    "language_info": {
      "name": "python"
    }
  },
  "cells": [
    {
      "cell_type": "markdown",
      "metadata": {
        "id": "view-in-github",
        "colab_type": "text"
      },
      "source": [
        "<a href=\"https://colab.research.google.com/github/Pratik94229/AIR-BNB-Dashboard-Tableau/blob/main/sorting_algorithms/bubble_sort.ipynb\" target=\"_parent\"><img src=\"https://colab.research.google.com/assets/colab-badge.svg\" alt=\"Open In Colab\"/></a>"
      ]
    },
    {
      "cell_type": "code",
      "execution_count": 7,
      "metadata": {
        "id": "1ZRZaaUHd_-H"
      },
      "outputs": [],
      "source": [
        "#Bubble sort\n",
        "def bubble_sort(my_list):\n",
        "    for i in range(len(my_list) - 1, 0 ,-1):\n",
        "        for j in range(i):\n",
        "            if my_list[j] > my_list[j+1]:\n",
        "              my_list[j+1],my_list[j]= my_list[j],my_list[j+1]\n",
        "    return my_list\n"
      ]
    },
    {
      "cell_type": "code",
      "source": [
        "print(bubble_sort([4,2,6,5,1,3]))"
      ],
      "metadata": {
        "colab": {
          "base_uri": "https://localhost:8080/"
        },
        "id": "yqFYuH2meWij",
        "outputId": "c7c062b4-40c9-490f-d9c1-4c7acf58a58f"
      },
      "execution_count": 8,
      "outputs": [
        {
          "output_type": "stream",
          "name": "stdout",
          "text": [
            "[1, 2, 3, 4, 5, 6]\n"
          ]
        }
      ]
    }
  ]
}