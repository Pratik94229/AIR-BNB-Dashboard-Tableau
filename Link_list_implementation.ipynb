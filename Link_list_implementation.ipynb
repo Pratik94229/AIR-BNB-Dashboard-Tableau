{
  "nbformat": 4,
  "nbformat_minor": 0,
  "metadata": {
    "colab": {
      "provenance": [],
      "authorship_tag": "ABX9TyMgjHcGoOV29ejgdclnO3aJ",
      "include_colab_link": true
    },
    "kernelspec": {
      "name": "python3",
      "display_name": "Python 3"
    },
    "language_info": {
      "name": "python"
    }
  },
  "cells": [
    {
      "cell_type": "markdown",
      "metadata": {
        "id": "view-in-github",
        "colab_type": "text"
      },
      "source": [
        "<a href=\"https://colab.research.google.com/github/Pratik94229/AIR-BNB-Dashboard-Tableau/blob/main/Link_list_implementation.ipynb\" target=\"_parent\"><img src=\"https://colab.research.google.com/assets/colab-badge.svg\" alt=\"Open In Colab\"/></a>"
      ]
    },
    {
      "cell_type": "code",
      "execution_count": 1,
      "metadata": {
        "colab": {
          "base_uri": "https://localhost:8080/"
        },
        "id": "8CXSo-ZQEWYd",
        "outputId": "4d504e14-5b5f-4c0a-b915-0bdf348e232a"
      },
      "outputs": [
        {
          "output_type": "stream",
          "name": "stdout",
          "text": [
            "4\n"
          ]
        }
      ],
      "source": [
        "#creating node class to create new node\n",
        "class Node:\n",
        "    def __init__(self, value):\n",
        "        self.value = value\n",
        "        self.next = None\n",
        "\n",
        "#creating linkedlist class to create linkedlist\n",
        "class LinkedList:\n",
        "    def __init__(self, value):\n",
        "        new_node = Node(value)\n",
        "        self.head = new_node\n",
        "        self.tail = new_node\n",
        "        self.length = 1\n",
        "\n",
        "\n",
        "my_linked_list = LinkedList(4)\n",
        "\n",
        "print(my_linked_list.head.value)\n"
      ]
    },
    {
      "cell_type": "code",
      "source": [
        "#creating method to append element in linkedlist\n",
        "class LinkedList:\n",
        "    def __init__(self, value):\n",
        "        new_node = Node(value)\n",
        "        self.head = new_node\n",
        "        self.tail = new_node\n",
        "        self.length = 1\n",
        "\n",
        "    def print_list(self):\n",
        "        temp = self.head\n",
        "        while temp is not None:\n",
        "            print(temp.value)\n",
        "            temp = temp.next\n",
        "\n",
        "    def append(self, value):\n",
        "        new_node = Node(value)\n",
        "        #checking if list is empty if yes then creating linkedlist with new node\n",
        "        #else we will continue to append\n",
        "        if self.length == 0:\n",
        "            self.head = new_node\n",
        "            self.tail = new_node\n",
        "        else:\n",
        "            self.tail.next = new_node\n",
        "            self.tail = new_node\n",
        "        self.length += 1\n",
        "        return True\n",
        "\n",
        "\n",
        "my_linked_list = LinkedList(11)\n",
        "my_linked_list.append(3)\n",
        "my_linked_list.append(23)\n",
        "my_linked_list.append(7)\n",
        "\n",
        "my_linked_list.print_list()\n",
        "\n",
        "\n"
      ],
      "metadata": {
        "colab": {
          "base_uri": "https://localhost:8080/"
        },
        "id": "q-ghM-1mFN4j",
        "outputId": "c817eeb1-0e54-4a49-8243-19c655e6848d"
      },
      "execution_count": 5,
      "outputs": [
        {
          "output_type": "stream",
          "name": "stdout",
          "text": [
            "11\n",
            "3\n",
            "23\n",
            "7\n"
          ]
        }
      ]
    },
    {
      "cell_type": "code",
      "source": [
        "#Creating method to pop the node\n",
        "\n",
        "class LinkedList:\n",
        "    def __init__(self, value):\n",
        "        new_node = Node(value)\n",
        "        self.head = new_node\n",
        "        self.tail = new_node\n",
        "        self.length = 1\n",
        "\n",
        "    def print_list(self):\n",
        "        temp = self.head\n",
        "        while temp is not None:\n",
        "            print(temp.value)\n",
        "            temp = temp.next\n",
        "\n",
        "    def append(self, value):\n",
        "        new_node = Node(value)\n",
        "        if self.length == 0:\n",
        "            self.head = new_node\n",
        "            self.tail = new_node\n",
        "        else:\n",
        "            self.tail.next = new_node\n",
        "            self.tail = new_node\n",
        "        self.length += 1\n",
        "        return True\n",
        "\n",
        "    def pop(self):\n",
        "        if self.length == 0:\n",
        "            return None\n",
        "        temp = self.head\n",
        "        pre = self.head\n",
        "        while(temp.next):\n",
        "            pre = temp\n",
        "            temp = temp.next\n",
        "        self.tail = pre\n",
        "        self.tail.next = None\n",
        "        self.length -= 1\n",
        "        # if we encounter only one element in list\n",
        "        if self.length == 0:\n",
        "            self.head = None\n",
        "            self.tail = None\n",
        "        return temp.value\n",
        "\n",
        "\n",
        "my_linked_list = LinkedList(11)\n",
        "my_linked_list.append(3)\n",
        "my_linked_list.append(23)\n",
        "my_linked_list.append(7)\n",
        "\n",
        "# (3) Items - Returns 4th Node\n",
        "print(my_linked_list.pop())\n",
        "# (2) Item -  Returns 3rd Node\n",
        "print(my_linked_list.pop())\n",
        "# (1) Items - Returns 2nd Node\n",
        "print(my_linked_list.pop())\n",
        "# (0) Items - Returns 1st node\n",
        "print(my_linked_list.pop())\n",
        "#Returns none\n",
        "print(my_linked_list.pop())\n"
      ],
      "metadata": {
        "colab": {
          "base_uri": "https://localhost:8080/"
        },
        "id": "T63yom_oJ0Vs",
        "outputId": "41e22987-c584-4f1c-8c06-267756435a93"
      },
      "execution_count": 7,
      "outputs": [
        {
          "output_type": "stream",
          "name": "stdout",
          "text": [
            "7\n",
            "23\n",
            "3\n",
            "11\n",
            "None\n"
          ]
        }
      ]
    },
    {
      "cell_type": "code",
      "source": [
        "#creating pretend method to add element in the beginning of the list\n",
        "\n",
        "class LinkedList:\n",
        "    def __init__(self, value):\n",
        "        new_node = Node(value)\n",
        "        self.head = new_node\n",
        "        self.tail = new_node\n",
        "        self.length = 1\n",
        "\n",
        "    def print_list(self):\n",
        "        temp = self.head\n",
        "        while temp is not None:\n",
        "            print(temp.value)\n",
        "            temp = temp.next\n",
        "\n",
        "    def append(self, value):\n",
        "        new_node = Node(value)\n",
        "        if self.length == 0:\n",
        "            self.head = new_node\n",
        "            self.tail = new_node\n",
        "        else:\n",
        "            self.tail.next = new_node\n",
        "            self.tail = new_node\n",
        "        self.length += 1\n",
        "        return True\n",
        "\n",
        "    def pop(self):\n",
        "        if self.length == 0:\n",
        "            return None\n",
        "        temp = self.head\n",
        "        pre = self.head\n",
        "        while(temp.next):\n",
        "            pre = temp\n",
        "            temp = temp.next\n",
        "        self.tail = pre\n",
        "        self.tail.next = None\n",
        "        self.length -= 1\n",
        "        if self.length == 0:\n",
        "            self.head = None\n",
        "            self.tail = None\n",
        "        return temp\n",
        "\n",
        "    def prepend(self, value):\n",
        "        new_node = Node(value)\n",
        "        #if list is empty\n",
        "        if self.length == 0:\n",
        "            self.head = new_node\n",
        "            self.tail = new_node\n",
        "        else:\n",
        "            new_node.next = self.head\n",
        "            self.head = new_node\n",
        "        self.length += 1\n",
        "        return True\n",
        "\n",
        "\n",
        "my_linked_list = LinkedList(2)\n",
        "my_linked_list.append(3)\n",
        "\n",
        "my_linked_list.prepend(1)\n",
        "\n",
        "my_linked_list.print_list()\n",
        "\n"
      ],
      "metadata": {
        "colab": {
          "base_uri": "https://localhost:8080/"
        },
        "id": "HaCjgAkEQyqC",
        "outputId": "65243064-99a3-4d8e-ab00-acf984e13546"
      },
      "execution_count": 9,
      "outputs": [
        {
          "output_type": "stream",
          "name": "stdout",
          "text": [
            "1\n",
            "2\n",
            "3\n"
          ]
        }
      ]
    },
    {
      "cell_type": "code",
      "source": [
        "# creating method to pop first item from linked list\n",
        "class LinkedList:\n",
        "    def __init__(self, value):\n",
        "        new_node = Node(value)\n",
        "        self.head = new_node\n",
        "        self.tail = new_node\n",
        "        self.length = 1\n",
        "\n",
        "    def print_list(self):\n",
        "        temp = self.head\n",
        "        while temp is not None:\n",
        "            print(temp.value)\n",
        "            temp = temp.next\n",
        "\n",
        "    def append(self, value):\n",
        "        new_node = Node(value)\n",
        "        if self.length == 0:\n",
        "            self.head = new_node\n",
        "            self.tail = new_node\n",
        "        else:\n",
        "            self.tail.next = new_node\n",
        "            self.tail = new_node\n",
        "        self.length += 1\n",
        "        return True\n",
        "\n",
        "    def pop(self):\n",
        "        if self.length == 0:\n",
        "            return None\n",
        "        temp = self.head\n",
        "        pre = self.head\n",
        "        while(temp.next):\n",
        "            pre = temp\n",
        "            temp = temp.next\n",
        "        self.tail = pre\n",
        "        self.tail.next = None\n",
        "        self.length -= 1\n",
        "        if self.length == 0:\n",
        "            self.head = None\n",
        "            self.tail = None\n",
        "        return temp\n",
        "\n",
        "    def prepend(self, value):\n",
        "        new_node = Node(value)\n",
        "        if self.length == 0:\n",
        "            self.head = new_node\n",
        "            self.tail = new_node\n",
        "        else:\n",
        "            new_node.next = self.head\n",
        "            self.head = new_node\n",
        "        self.length += 1\n",
        "        return True\n",
        "\n",
        "    def pop_first(self):\n",
        "        if self.length == 0:\n",
        "            return None\n",
        "        temp = self.head\n",
        "        self.head = self.head.next\n",
        "        temp.next = None\n",
        "        self.length -= 1\n",
        "        #case where there is only one element in the list\n",
        "        if self.length == 0:\n",
        "            self.tail = None\n",
        "        return temp.value\n",
        "\n",
        "\n",
        "my_linked_list = LinkedList(2)\n",
        "my_linked_list.append(1)\n",
        "\n",
        "\n",
        "# (2) Items - Returns 2 Node\n",
        "print(my_linked_list.pop_first())\n",
        "# (1) Item -  Returns 1 Node\n",
        "print(my_linked_list.pop_first())\n",
        "# (0) Items - Returns None\n",
        "print(my_linked_list.pop_first())\n",
        "\n",
        "\n"
      ],
      "metadata": {
        "colab": {
          "base_uri": "https://localhost:8080/"
        },
        "id": "Bs75Ppb4Q34i",
        "outputId": "e6a4634a-b450-4526-c3b6-98df28a73d05"
      },
      "execution_count": 11,
      "outputs": [
        {
          "output_type": "stream",
          "name": "stdout",
          "text": [
            "2\n",
            "1\n",
            "None\n"
          ]
        }
      ]
    }
  ]
}